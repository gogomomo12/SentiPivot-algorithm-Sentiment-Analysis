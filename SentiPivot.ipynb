{
 "cells": [
  {
   "cell_type": "code",
   "execution_count": 206,
   "id": "96f6023e",
   "metadata": {
    "scrolled": true
   },
   "outputs": [
    {
     "name": "stdout",
     "output_type": "stream",
     "text": [
      "Requirement already satisfied: afinn in c:\\users\\acer\\anaconda3\\lib\\site-packages (0.1)\n",
      "Requirement already satisfied: nltk in c:\\users\\acer\\anaconda3\\lib\\site-packages (3.6.1)\n",
      "Requirement already satisfied: tqdm in c:\\users\\acer\\anaconda3\\lib\\site-packages (from nltk) (4.59.0)\n",
      "Requirement already satisfied: click in c:\\users\\acer\\anaconda3\\lib\\site-packages (from nltk) (7.1.2)\n",
      "Requirement already satisfied: joblib in c:\\users\\acer\\anaconda3\\lib\\site-packages (from nltk) (1.0.1)\n",
      "Requirement already satisfied: regex in c:\\users\\acer\\anaconda3\\lib\\site-packages (from nltk) (2021.4.4)\n"
     ]
    }
   ],
   "source": [
    "!pip install afinn\n",
    "!pip install nltk"
   ]
  },
  {
   "cell_type": "code",
   "execution_count": 207,
   "id": "c8f0735b",
   "metadata": {},
   "outputs": [],
   "source": [
    "from afinn import Afinn\n",
    "from nltk.corpus import stopwords\n",
    "from nltk.stem import WordNetLemmatizer\n",
    "from nltk.stem import SnowballStemmer\n",
    "from datetime import datetime as dt\n",
    "from sklearn.metrics import f1_score, accuracy_score, precision_score, recall_score, confusion_matrix, ConfusionMatrixDisplay\n",
    "from sklearn.model_selection import train_test_split\n",
    "from sklearn.feature_extraction.text import CountVectorizer\n",
    "from matplotlib import pyplot as plt\n",
    "from scipy.sparse import csr_matrix\n",
    "\n",
    "import seaborn as sns\n",
    "import nltk\n",
    "import pandas as pd\n",
    "import math, re, numpy as np, os"
   ]
  },
  {
   "cell_type": "code",
   "execution_count": 208,
   "id": "2c04d4ba",
   "metadata": {
    "scrolled": true
   },
   "outputs": [
    {
     "name": "stderr",
     "output_type": "stream",
     "text": [
      "[nltk_data] Downloading package wordnet to\n",
      "[nltk_data]     C:\\Users\\Acer\\AppData\\Roaming\\nltk_data...\n",
      "[nltk_data]   Package wordnet is already up-to-date!\n",
      "[nltk_data] Downloading package stopwords to\n",
      "[nltk_data]     C:\\Users\\Acer\\AppData\\Roaming\\nltk_data...\n",
      "[nltk_data]   Package stopwords is already up-to-date!\n",
      "[nltk_data] Downloading package averaged_perceptron_tagger to\n",
      "[nltk_data]     C:\\Users\\Acer\\AppData\\Roaming\\nltk_data...\n",
      "[nltk_data]   Package averaged_perceptron_tagger is already up-to-\n",
      "[nltk_data]       date!\n"
     ]
    },
    {
     "data": {
      "text/plain": [
       "True"
      ]
     },
     "execution_count": 208,
     "metadata": {},
     "output_type": "execute_result"
    }
   ],
   "source": [
    "nltk.download(\"wordnet\")\n",
    "nltk.download(\"stopwords\")\n",
    "nltk.download('averaged_perceptron_tagger')"
   ]
  },
  {
   "cell_type": "code",
   "execution_count": 209,
   "id": "d601a374",
   "metadata": {},
   "outputs": [],
   "source": [
    "RES_FILE_TEST = \"Results/result_sp_test_dataset.csv\"\n",
    "RES_FILE_WHOLE = \"Results/result_sp_whole_dataset.csv\"\n",
    "AFFIN_VS_SPIVOT_COMPARISON_FILE = \"Results/affin_vs_sp_comparison.csv\"\n",
    "AFFIN_VS_SPIVOT_ACCURACY_FILE = \"Results/affin_vs_sp_accuracy.csv\"\n",
    "AFF_RES = \"Results/result_affin_whole_dataset.csv\"\n",
    "MODEL_COMPARISONS_FILE = \"Results/model_comparisons.csv\"\n",
    "MODEL_ACCURACY_FILE = \"Results/model_accuracy.csv\"\n",
    "SENTIMENTS_DICT = {1:\"Positive\", 0:\"Neutral\", -1:\"Negative\"}\n",
    "LOG_HEADERS = [\"Tokenized Words\", \"Sentiment Scores\", \"Skip Conquer\", \"Chosen Pivot\", \"Simplified Zeroes\", \n",
    "               \"First\", \"Mid\", \"Last\",  \"Pivot Sentiments\",\n",
    "               \"Final Sentiment\", ]\n",
    "SENTI_PIVOT = \"SentiPivot\"\n",
    "SCORE_AVERAGING = \"macro\"\n",
    "RAND_STATE  = 11\n",
    "AFF = Afinn(language=\"en\")"
   ]
  },
  {
   "cell_type": "code",
   "execution_count": 210,
   "id": "99f6a134",
   "metadata": {},
   "outputs": [
    {
     "data": {
      "text/html": [
       "<svg  width=\"275\" height=\"55\"><rect x=\"0\" y=\"0\" width=\"55\" height=\"55\" style=\"fill:#4878d0;stroke-width:2;stroke:rgb(255,255,255)\"/><rect x=\"55\" y=\"0\" width=\"55\" height=\"55\" style=\"fill:#ee854a;stroke-width:2;stroke:rgb(255,255,255)\"/><rect x=\"110\" y=\"0\" width=\"55\" height=\"55\" style=\"fill:#6acc64;stroke-width:2;stroke:rgb(255,255,255)\"/><rect x=\"165\" y=\"0\" width=\"55\" height=\"55\" style=\"fill:#d65f5f;stroke-width:2;stroke:rgb(255,255,255)\"/><rect x=\"220\" y=\"0\" width=\"55\" height=\"55\" style=\"fill:#956cb4;stroke-width:2;stroke:rgb(255,255,255)\"/></svg>"
      ],
      "text/plain": [
       "[(0.2823529411764706, 0.47058823529411764, 0.8156862745098039),\n",
       " (0.9333333333333333, 0.5215686274509804, 0.2901960784313726),\n",
       " (0.41568627450980394, 0.8, 0.39215686274509803),\n",
       " (0.8392156862745098, 0.37254901960784315, 0.37254901960784315),\n",
       " (0.5843137254901961, 0.4235294117647059, 0.7058823529411765)]"
      ]
     },
     "execution_count": 210,
     "metadata": {},
     "output_type": "execute_result"
    }
   ],
   "source": [
    "VISUAL_PALETTE = sns.color_palette(\"muted\", 5)\n",
    "VISUAL_PALETTE"
   ]
  },
  {
   "cell_type": "code",
   "execution_count": 211,
   "id": "824b0a64",
   "metadata": {},
   "outputs": [],
   "source": [
    "plt.rcParams[\"figure.figsize\"] = (10,5)\n",
    "plt.rcParams[\"font.size\"] = 13"
   ]
  },
  {
   "cell_type": "code",
   "execution_count": 212,
   "id": "b8d2af9e",
   "metadata": {},
   "outputs": [],
   "source": [
    "if not os.path.exists(\"Results\"):\n",
    "    os.mkdir(\"Results\")"
   ]
  },
  {
   "cell_type": "markdown",
   "id": "b9b7f1e0",
   "metadata": {},
   "source": [
    "## Load data"
   ]
  },
  {
   "cell_type": "code",
   "execution_count": 213,
   "id": "784b26ae",
   "metadata": {
    "scrolled": false
   },
   "outputs": [
    {
     "data": {
      "text/html": [
       "<div>\n",
       "<style scoped>\n",
       "    .dataframe tbody tr th:only-of-type {\n",
       "        vertical-align: middle;\n",
       "    }\n",
       "\n",
       "    .dataframe tbody tr th {\n",
       "        vertical-align: top;\n",
       "    }\n",
       "\n",
       "    .dataframe thead th {\n",
       "        text-align: right;\n",
       "    }\n",
       "</style>\n",
       "<table border=\"1\" class=\"dataframe\">\n",
       "  <thead>\n",
       "    <tr style=\"text-align: right;\">\n",
       "      <th></th>\n",
       "      <th>text</th>\n",
       "      <th>sentiment</th>\n",
       "    </tr>\n",
       "  </thead>\n",
       "  <tbody>\n",
       "    <tr>\n",
       "      <th>0</th>\n",
       "      <td>@MeNyrbie @Phil_Gahan @Chrisitv https://t.co/i...</td>\n",
       "      <td>0</td>\n",
       "    </tr>\n",
       "    <tr>\n",
       "      <th>1</th>\n",
       "      <td>advice Talk to your neighbours family to excha...</td>\n",
       "      <td>1</td>\n",
       "    </tr>\n",
       "    <tr>\n",
       "      <th>2</th>\n",
       "      <td>Coronavirus Australia: Woolworths to give elde...</td>\n",
       "      <td>1</td>\n",
       "    </tr>\n",
       "    <tr>\n",
       "      <th>3</th>\n",
       "      <td>My food stock is not the only one which is emp...</td>\n",
       "      <td>1</td>\n",
       "    </tr>\n",
       "    <tr>\n",
       "      <th>4</th>\n",
       "      <td>Me, ready to go at supermarket during the #COV...</td>\n",
       "      <td>-1</td>\n",
       "    </tr>\n",
       "  </tbody>\n",
       "</table>\n",
       "</div>"
      ],
      "text/plain": [
       "                                                text  sentiment\n",
       "0  @MeNyrbie @Phil_Gahan @Chrisitv https://t.co/i...          0\n",
       "1  advice Talk to your neighbours family to excha...          1\n",
       "2  Coronavirus Australia: Woolworths to give elde...          1\n",
       "3  My food stock is not the only one which is emp...          1\n",
       "4  Me, ready to go at supermarket during the #COV...         -1"
      ]
     },
     "execution_count": 213,
     "metadata": {},
     "output_type": "execute_result"
    }
   ],
   "source": [
    "df = pd.read_csv(r\"Covid-19-tweets.csv\")\n",
    "df.dropna(inplace=True)\n",
    "df.drop_duplicates(inplace=True)\n",
    "\n",
    "#  Make sentiments = 1, 0, -1\n",
    "replace_sentiments_dict = {val:key for key,val in SENTIMENTS_DICT.items()}\n",
    "df[\"sentiment\"].replace(replace_sentiments_dict, inplace=True)\n",
    "df.head()"
   ]
  },
  {
   "cell_type": "code",
   "execution_count": 214,
   "id": "81ad81e5",
   "metadata": {},
   "outputs": [],
   "source": [
    "# Split to train and test set\n",
    "X = df[\"text\"]\n",
    "y = df[\"sentiment\"]\n",
    "X_train, X_test, y_train, y_test = train_test_split(X, y, test_size=0.3, random_state=RAND_STATE)"
   ]
  },
  {
   "cell_type": "markdown",
   "id": "7e41f19e",
   "metadata": {},
   "source": [
    "## Prepare the SentiPivot inputs"
   ]
  },
  {
   "cell_type": "code",
   "execution_count": 215,
   "id": "dd14e1ca",
   "metadata": {},
   "outputs": [],
   "source": [
    "def preprocess(doc):\n",
    "    lemmatizer = WordNetLemmatizer()\n",
    "    stemmer = SnowballStemmer(language=\"english\")\n",
    "    stopw = stopwords.words('english')\n",
    "     \n",
    "    # ensure that the only whitespace present is a single space \n",
    "    doc = re.sub(r\"\\s+\",repl=\" \", string=doc)\n",
    "    \n",
    "    # handle apostrophes in words since\n",
    "    # it will be removed on the next steps\n",
    "    # eg. hadn't, didn't\n",
    "    tokenized = []\n",
    "    for a in doc.split():\n",
    "        if re.findall(r\"\\w+'\\w*\", a):\n",
    "            a = re.sub(\"'\", repl=\"\", string=a)\n",
    "        tokenized.append(a)\n",
    "    doc = \" \".join(tokenized)\n",
    "    \n",
    "    # remove urls and emails\n",
    "    doc =  re.sub(r\"(http\\S+)|(\\w+@\\w+\\.com)\", repl= \"\", string=doc)\n",
    "    \n",
    "    # remove mentions and hashtag\n",
    "    doc =  re.sub(r\"(@|#)\\s*\\S+\", repl= \"\", string=doc)\n",
    "    \n",
    "    # remove non alpha\n",
    "    doc = re.sub(r\"[^A-Za-z\\s]\", repl=\" \", string=doc)\n",
    "    \n",
    "    # lemmatized and stemmed\n",
    "    transformed = []\n",
    "    for tagged in nltk.pos_tag(doc.split()):\n",
    "        word = tagged[0]\n",
    "        tag = tagged[1]\n",
    "        \n",
    "        # For example we don;t want to stem\n",
    "        # words such as nothing, flying, and earthling\n",
    "        # Pos Tags = https://www.learntek.org/blog/categorizing-pos-tagging-nltk-python/\n",
    "        if tag in [\"RB\", \"VBG\", \"VBN\", \"VBD\", \"JJ\"]:\n",
    "            stemmed = stemmer.stem(word)\n",
    "            if stemmed.endswith(\"i\"):\n",
    "                stemmed = word\n",
    "            word = stemmed\n",
    "            \n",
    "        if word not in [\"has\", \"was\"]:\n",
    "            word = lemmatizer.lemmatize(word)\n",
    "                 \n",
    "        word = word.lower()\n",
    "        transformed.append(word)\n",
    "        \n",
    "    doc = \" \".join(transformed)\n",
    "    \n",
    "    # remove stop words\n",
    "    for stop in stopw:\n",
    "        doc = re.sub(r\"\\b{}\\b\".format(stop), repl=\"\", string=doc)\n",
    "    \n",
    "    # ensure that the only whitespace present is a single space \n",
    "    doc = re.sub(r\"\\s+\",repl=\" \", string=doc)\n",
    "    \n",
    "    return doc.strip()"
   ]
  },
  {
   "cell_type": "code",
   "execution_count": 216,
   "id": "193f5c2d",
   "metadata": {
    "scrolled": true
   },
   "outputs": [
    {
     "name": "stdout",
     "output_type": "stream",
     "text": [
      "For testing purposes ...\n",
      "\n",
      "care nice\n",
      "didnt dog bark\n",
      "llllkkaka dog bark\n",
      "dog bark\n",
      "care person\n",
      "beauty eye\n",
      "go nothing\n",
      "flying pig\n"
     ]
    }
   ],
   "source": [
    "print(\"For testing purposes ...\\n\")\n",
    "print(preprocess(\"He cared for me nicely\"))\n",
    "print(preprocess(\"didn't has The dog --- is barking and ..43.4 34. 423\"))\n",
    "print(preprocess(\"llll'kkaka The #jajaja @cat dog --- is barking and ..43.4 34. 423\"))\n",
    "print(preprocess(\"The #jajaja @cat dog @aa222--- is barking and ..43.4 34. https://www.facebook.com/423\"))\n",
    "print(preprocess(\"I am caring person\"))\n",
    "print(preprocess(\"The beauty in her eyes\"))\n",
    "print(preprocess(\"Here goes nothing\"))\n",
    "print(preprocess(\"The flying pig\"))"
   ]
  },
  {
   "cell_type": "code",
   "execution_count": 217,
   "id": "90953708",
   "metadata": {},
   "outputs": [],
   "source": [
    "def prepare_senti_pivot_input(X,y):\n",
    "    tokenized = []\n",
    "    sentiment_scores = []\n",
    "    sentiments_true = []\n",
    "    \n",
    "    # convert data to sentiment scores using Affin\n",
    "    for index,text in enumerate(list(X)):\n",
    "        sentiment = list(y)[index]\n",
    "\n",
    "        cleaned = preprocess(text)\n",
    "\n",
    "        # get the sentiment scores for each word\n",
    "        scores = []\n",
    "        for word in cleaned.split():\n",
    "            scores.append(int(AFF.score(word)))\n",
    "\n",
    "        # prevent empty data from cleaning\n",
    "        # cleaning may produce empty data since it remove words\n",
    "        if len(scores) != 0:\n",
    "            sentiment_scores.append(scores) \n",
    "            sentiments_true.append(sentiment)\n",
    "            tokenized.append(cleaned)\n",
    "    return tokenized, sentiment_scores, sentiments_true"
   ]
  },
  {
   "cell_type": "code",
   "execution_count": 218,
   "id": "a398cae7",
   "metadata": {},
   "outputs": [
    {
     "name": "stdout",
     "output_type": "stream",
     "text": [
      "Preparing input for train dataset\n",
      "Train dataset has 31425 rows\n"
     ]
    }
   ],
   "source": [
    "print(\"Preparing input for train dataset\")\n",
    "tokenized_train, sentiment_scores_train, sentiments_true_train = prepare_senti_pivot_input(X_train, y_train)\n",
    "print(\"Train dataset has\",len(tokenized_train) , \"rows\")"
   ]
  },
  {
   "cell_type": "code",
   "execution_count": 219,
   "id": "8f6a3b01",
   "metadata": {},
   "outputs": [
    {
     "name": "stdout",
     "output_type": "stream",
     "text": [
      "Preparing input for test dataset\n",
      "Train dataset has 13473 rows\n"
     ]
    }
   ],
   "source": [
    "print(\"Preparing input for test dataset\")\n",
    "tokenized_test, sentiment_scores_test, sentiments_true_test = prepare_senti_pivot_input(X_test, y_test)\n",
    "print(\"Train dataset has\",len(tokenized_test) , \"rows\")"
   ]
  },
  {
   "cell_type": "code",
   "execution_count": 220,
   "id": "8594ae51",
   "metadata": {
    "scrolled": true
   },
   "outputs": [
    {
     "name": "stdout",
     "output_type": "stream",
     "text": [
      "Preparing input for whole dataset\n",
      "Whole dataset has 44898 rows\n"
     ]
    }
   ],
   "source": [
    "print(\"Preparing input for whole dataset\")\n",
    "tokenized_whole, sentiment_scores_whole, sentiments_true_whole = [], [], []\n",
    "\n",
    "tokenized_whole.extend(tokenized_train)\n",
    "tokenized_whole.extend(tokenized_test)\n",
    "\n",
    "sentiment_scores_whole.extend(sentiment_scores_train)\n",
    "sentiment_scores_whole.extend(sentiment_scores_test)\n",
    "\n",
    "sentiments_true_whole.extend(sentiments_true_train)\n",
    "sentiments_true_whole.extend(sentiments_true_test)\n",
    "\n",
    "print(\"Whole dataset has\", len(tokenized_whole) , \"rows\")"
   ]
  },
  {
   "cell_type": "markdown",
   "id": "5726cf96",
   "metadata": {},
   "source": [
    "## Visualization"
   ]
  },
  {
   "cell_type": "code",
   "execution_count": 221,
   "id": "45f945bd",
   "metadata": {
    "scrolled": false
   },
   "outputs": [
    {
     "name": "stdout",
     "output_type": "stream",
     "text": [
      "Whole Dataset\n"
     ]
    },
    {
     "data": {
      "text/plain": [
       "<AxesSubplot:ylabel='sentiments'>"
      ]
     },
     "execution_count": 221,
     "metadata": {},
     "output_type": "execute_result"
    },
    {
     "data": {
      "image/png": "[encoded data removed]",
      "text/plain": [
       "<Figure size 720x360 with 1 Axes>"
      ]
     },
     "metadata": {},
     "output_type": "display_data"
    }
   ],
   "source": [
    "print(\"Whole Dataset\")\n",
    "pd.DataFrame({\"sentiments\":sentiments_true_whole})[\"sentiments\"].value_counts().plot.pie(autopct=\"%.2f%%\",colors=VISUAL_PALETTE)"
   ]
  },
  {
   "cell_type": "code",
   "execution_count": 222,
   "id": "fe9bf0cf",
   "metadata": {},
   "outputs": [
    {
     "name": "stdout",
     "output_type": "stream",
     "text": [
      "Train Dataset\n"
     ]
    },
    {
     "data": {
      "text/plain": [
       "<AxesSubplot:ylabel='sentiments'>"
      ]
     },
     "execution_count": 222,
     "metadata": {},
     "output_type": "execute_result"
    },
    {
     "data": {
      "image/png": "[encoded data removed]",
      "text/plain": [
       "<Figure size 720x360 with 1 Axes>"
      ]
     },
     "metadata": {},
     "output_type": "display_data"
    }
   ],
   "source": [
    "print(\"Train Dataset\")\n",
    "pd.DataFrame({\"sentiments\":sentiments_true_train})[\"sentiments\"].value_counts().plot.pie(autopct=\"%.2f%%\",colors=VISUAL_PALETTE)"
   ]
  },
  {
   "cell_type": "code",
   "execution_count": 223,
   "id": "7dfc68f9",
   "metadata": {
    "scrolled": false
   },
   "outputs": [
    {
     "name": "stdout",
     "output_type": "stream",
     "text": [
      "Test Dataset\n"
     ]
    },
    {
     "data": {
      "text/plain": [
       "<AxesSubplot:ylabel='sentiments'>"
      ]
     },
     "execution_count": 223,
     "metadata": {},
     "output_type": "execute_result"
    },
    {
     "data": {
      "image/png": "[encoded data removed]",
      "text/plain": [
       "<Figure size 720x360 with 1 Axes>"
      ]
     },
     "metadata": {},
     "output_type": "display_data"
    }
   ],
   "source": [
    "print(\"Test Dataset\")\n",
    "pd.DataFrame({\"sentiments\":sentiments_true_test})[\"sentiments\"].value_counts().plot.pie(autopct=\"%.2f%%\", colors=VISUAL_PALETTE)"
   ]
  },
  {
   "cell_type": "markdown",
   "id": "e93a7084",
   "metadata": {},
   "source": [
    "## Senti Pivot Classification"
   ]
  },
  {
   "cell_type": "code",
   "execution_count": 224,
   "id": "6946989b",
   "metadata": {},
   "outputs": [],
   "source": [
    "def create_pivot(scores):\n",
    "    pivot_index_dict = {}\n",
    "    pivot_index_dict[\"first\"] = 0\n",
    "    pivot_index_dict[\"mid\"] = int(len(scores)/2)\n",
    "    pivot_index_dict[\"last\"] = len(scores)-1\n",
    "    return pivot_index_dict"
   ]
  },
  {
   "cell_type": "code",
   "execution_count": 225,
   "id": "c7e1ea3d",
   "metadata": {},
   "outputs": [],
   "source": [
    "def manage_zeroes(pivot_index_dict, scores):\n",
    "    managed_scores = scores.copy()\n",
    "    for index,score in enumerate(scores):\n",
    "        # Make non pivot 0 = None\n",
    "        if score == 0 and index not in list(pivot_index_dict.values()):\n",
    "            managed_scores[index] = None\n",
    "            \n",
    "    # Ensures that there will be always one 0 remaining if\n",
    "    # there are 0s in the original scores\n",
    "    if None in scores and 0 not in scores:\n",
    "        # make the first None value = 0\n",
    "        scores[scores.index(None)] = 0\n",
    "    \n",
    "    return managed_scores"
   ]
  },
  {
   "cell_type": "code",
   "execution_count": 226,
   "id": "969d8598",
   "metadata": {},
   "outputs": [],
   "source": [
    "# 0 - neutral, 1- positive, -1 - negative\n",
    "def convert_to_numerical_sentiment(inp):\n",
    "    val = 0\n",
    "    if inp > 0:\n",
    "        val = 1\n",
    "    elif inp < 0:\n",
    "        val = -1\n",
    "        \n",
    "    return val"
   ]
  },
  {
   "cell_type": "code",
   "execution_count": 227,
   "id": "9a125b77",
   "metadata": {},
   "outputs": [],
   "source": [
    "def segregate(scores, pivot_index, pivot_value): \n",
    "    # will store left and right values\n",
    "    left = []\n",
    "    right = []\n",
    "\n",
    "    # segregate to left or right\n",
    "    for index,score in enumerate(scores):\n",
    "        if score != None:\n",
    "            # don't include pivot in the segregation\n",
    "            if index != pivot_index:\n",
    "\n",
    "                # greater value than pivot = right, else = left\n",
    "                if score > pivot_value:\n",
    "                    right.append(score)\n",
    "                elif score < pivot_value:\n",
    "                    left.append(score)\n",
    "\n",
    "                # If score same value as the current pivot, \n",
    "                # execute the rules in number 2 sa document\n",
    "                elif score < 0:\n",
    "                    left.append(score)\n",
    "                elif score > 0:\n",
    "                    right.append(score)\n",
    "                    \n",
    "    return left, right"
   ]
  },
  {
   "cell_type": "code",
   "execution_count": 228,
   "id": "c6620df2",
   "metadata": {},
   "outputs": [],
   "source": [
    "def sentiPivot(pivot_index_dict, scores):\n",
    "    conquering_skipped = False\n",
    "    results = []\n",
    "    processes = {}\n",
    "    \n",
    "    # Number 6, bullet 1,2,3\n",
    "    if len(set(scores)) == 1:\n",
    "        val = convert_to_numerical_sentiment(scores[0])\n",
    "        results.append(val)\n",
    "        processes[\"Skip Conquer\"] = \"All scores are {}\".format(SENTIMENTS_DICT[val])\n",
    "        conquering_skipped = True\n",
    "    \n",
    "    else:\n",
    "        # convert pos to 1 , and negatives to -1\n",
    "        zero_ones_neg_ones = [0 if s is None or s == 0 else (-1 if s < 0 else 1) for s in scores]\n",
    "        \n",
    "        # Number 6, bullet 3, sub bullet 1 and 2\n",
    "        if len(set(zero_ones_neg_ones)) <= 2 and 0 in scores:\n",
    "            score_sum = sum(zero_ones_neg_ones)\n",
    "            val = convert_to_numerical_sentiment(score_sum)\n",
    "            results.append(val)\n",
    "            processes[\"Skip Conquer\"] = \"Sentiment scores are only Neutral and {}\".format(SENTIMENTS_DICT[val])\n",
    "            conquering_skipped = True\n",
    "            \n",
    "        # do conquering\n",
    "        else:\n",
    "            processes[\"Skip Conquer\"] = \"Positive, negative and neutral are all present proceed to SentiPivot algorithm\"\n",
    "\n",
    "            # converting arrays to list to add commas when converting to string\n",
    "            processes[\"Chosen Pivot\"] = list(np.array(scores)[list(pivot_index_dict.values())])\n",
    "\n",
    "            # remove the word \"None\" produce from managing zeroes\n",
    "            processes[\"Simplified Zeroes\"] = re.sub(\"\\\\b, None\\\\b\", \"\", str(scores))\n",
    "\n",
    "\n",
    "\n",
    "            # Iterate the  pivots\n",
    "            for pivot_name in pivot_index_dict.keys():\n",
    "                pivot_index = pivot_index_dict[pivot_name]\n",
    "                pivot_value = scores[pivot_index]\n",
    "\n",
    "                # Store left and right values\n",
    "                left, right = segregate(scores=scores, pivot_index=pivot_index, pivot_value= pivot_value)\n",
    "\n",
    "                processes[pivot_name.capitalize()] = '{} \"{}\" {}'.format(left, pivot_value, right)\n",
    "\n",
    "                # Determine the sentiment for the current pivot\n",
    "                # 1= Positive, -1= Negative\n",
    "                val = 0\n",
    "\n",
    "                # by left and right length\n",
    "                if len(left) > len(right):\n",
    "                    val = -1\n",
    "                elif len(left) < len(right):\n",
    "                    val = 1\n",
    "\n",
    "                # by left and right intensity\n",
    "                elif abs(sum(left)) > abs(sum(right)):\n",
    "                    val = -1\n",
    "                elif abs(sum(left)) < abs(sum(right)):\n",
    "                    val = 1\n",
    "\n",
    "                results.append(val)\n",
    "\n",
    "    return conquering_skipped, results, processes"
   ]
  },
  {
   "cell_type": "code",
   "execution_count": 229,
   "id": "876f2752",
   "metadata": {},
   "outputs": [],
   "source": [
    "def get_final_results(results):\n",
    "    # The sum of the results is similar to the logic presented in No.5\n",
    "    # Sa document na sinend mo sakin Freshten\n",
    "    \n",
    "    results_sum = sum(results)\n",
    "    final_result = 0\n",
    "    if results_sum > 0:\n",
    "        final_result = 1\n",
    "    elif results_sum < 0:\n",
    "        final_result = -1\n",
    "    return final_result"
   ]
  },
  {
   "cell_type": "code",
   "execution_count": 230,
   "id": "2fc67f07",
   "metadata": {},
   "outputs": [],
   "source": [
    "def to_millis(date):\n",
    "    return int(date.timestamp() * 1000)"
   ]
  },
  {
   "cell_type": "code",
   "execution_count": 231,
   "id": "d2dcb4a7",
   "metadata": {},
   "outputs": [],
   "source": [
    "def classify(sentiment_scores, tokenized, log_file):\n",
    "    sentiments_pred = []\n",
    "\n",
    "    # the time (ms) it take to run the algorithm\n",
    "    process_time = 0\n",
    "\n",
    "    for index, raw_scores in enumerate(sentiment_scores):\n",
    "        start_time = to_millis(dt.now())\n",
    "\n",
    "        # Create pivot\n",
    "        pivot_index_dict = create_pivot(raw_scores)\n",
    "\n",
    "        # Manage all zeroes\n",
    "        scores = manage_zeroes(pivot_index_dict, raw_scores)\n",
    "\n",
    "        # get pivot results\n",
    "        conquering_skipped, results, processes = sentiPivot(pivot_index_dict, scores)\n",
    "\n",
    "        # get the final sentiment label\n",
    "        sentiment = get_final_results(results)\n",
    "\n",
    "        end_time = to_millis(dt.now())\n",
    "\n",
    "        process_time+= (end_time - start_time)\n",
    "\n",
    "        sentiments_pred.append(sentiment)\n",
    "\n",
    "        processes[\"Sentiment Scores\"] = raw_scores\n",
    "\n",
    "        # add pivots when conquering\n",
    "        if not conquering_skipped:\n",
    "            processes[\"Pivot Sentiments\"] = \", \".join([SENTIMENTS_DICT[res] for res in results])\n",
    "\n",
    "        processes[\"Final Sentiment\"] = SENTIMENTS_DICT[sentiment]\n",
    "\n",
    "        processes[\"Tokenized Words\"] = tokenized[index]\n",
    "\n",
    "        # Record all process in a dictionary\n",
    "        final_processes_dict = {}\n",
    "        for header in LOG_HEADERS:\n",
    "            data = []\n",
    "            try:\n",
    "                data.append( processes[header])\n",
    "            except KeyError:\n",
    "                data.append(\"skip\")\n",
    "\n",
    "            final_processes_dict[header] = data\n",
    "\n",
    "        # save prpcesses as csv\n",
    "        logs_df = pd.DataFrame(final_processes_dict)\n",
    "        mode = 'a'\n",
    "        header = False\n",
    "        if index == 0:\n",
    "            mode = 'w'\n",
    "            header = True\n",
    "        logs_df.to_csv(log_file, mode=mode, header=header, index=False)\n",
    "\n",
    "\n",
    "    \"Algorithm Processing Time: {} ms\".format(process_time)\n",
    "    return sentiments_pred"
   ]
  },
  {
   "cell_type": "markdown",
   "id": "b629523e",
   "metadata": {},
   "source": [
    "### Clear existing result files"
   ]
  },
  {
   "cell_type": "code",
   "execution_count": 232,
   "id": "986bc100",
   "metadata": {},
   "outputs": [],
   "source": [
    "if os.path.exists(RES_FILE_TEST):\n",
    "    os.remove(RES_FILE_TEST)\n",
    "    \n",
    "if os.path.exists(RES_FILE_WHOLE):\n",
    "    os.remove(RES_FILE_WHOLE)"
   ]
  },
  {
   "cell_type": "markdown",
   "id": "60de55e1",
   "metadata": {},
   "source": [
    "### Do classification"
   ]
  },
  {
   "cell_type": "code",
   "execution_count": 233,
   "id": "1de4d55a",
   "metadata": {},
   "outputs": [
    {
     "name": "stdout",
     "output_type": "stream",
     "text": [
      "Classifying Whole Dataset\n"
     ]
    }
   ],
   "source": [
    "print(\"Classifying Whole Dataset\")\n",
    "sentiments_pred_whole = classify(sentiment_scores_whole, tokenized_whole, RES_FILE_WHOLE)"
   ]
  },
  {
   "cell_type": "code",
   "execution_count": 234,
   "id": "b312078c",
   "metadata": {
    "scrolled": false
   },
   "outputs": [
    {
     "name": "stdout",
     "output_type": "stream",
     "text": [
      "Classifying Test Dataset\n"
     ]
    }
   ],
   "source": [
    "print(\"Classifying Test Dataset\")\n",
    "sentiments_pred_test = classify(sentiment_scores_test, tokenized_test, RES_FILE_TEST)"
   ]
  },
  {
   "cell_type": "markdown",
   "id": "6a6e728e",
   "metadata": {},
   "source": [
    "## Senti Pivot Results"
   ]
  },
  {
   "cell_type": "code",
   "execution_count": 235,
   "id": "6aeda0d5",
   "metadata": {},
   "outputs": [
    {
     "name": "stdout",
     "output_type": "stream",
     "text": [
      "Whole Dataset\n"
     ]
    },
    {
     "data": {
      "text/html": [
       "<div>\n",
       "<style scoped>\n",
       "    .dataframe tbody tr th:only-of-type {\n",
       "        vertical-align: middle;\n",
       "    }\n",
       "\n",
       "    .dataframe tbody tr th {\n",
       "        vertical-align: top;\n",
       "    }\n",
       "\n",
       "    .dataframe thead th {\n",
       "        text-align: right;\n",
       "    }\n",
       "</style>\n",
       "<table border=\"1\" class=\"dataframe\">\n",
       "  <thead>\n",
       "    <tr style=\"text-align: right;\">\n",
       "      <th></th>\n",
       "      <th>Tokenized Words</th>\n",
       "      <th>Sentiment Scores</th>\n",
       "      <th>Skip Conquer</th>\n",
       "      <th>Chosen Pivot</th>\n",
       "      <th>Simplified Zeroes</th>\n",
       "      <th>First</th>\n",
       "      <th>Mid</th>\n",
       "      <th>Last</th>\n",
       "      <th>Pivot Sentiments</th>\n",
       "      <th>Final Sentiment</th>\n",
       "    </tr>\n",
       "  </thead>\n",
       "  <tbody>\n",
       "    <tr>\n",
       "      <th>0</th>\n",
       "      <td>whenever come insid even walk grocery store</td>\n",
       "      <td>[0, 0, 0, 0, 0, 0, 0]</td>\n",
       "      <td>Sentiment scores are only Neutral and Neutral</td>\n",
       "      <td>skip</td>\n",
       "      <td>skip</td>\n",
       "      <td>skip</td>\n",
       "      <td>skip</td>\n",
       "      <td>skip</td>\n",
       "      <td>skip</td>\n",
       "      <td>Neutral</td>\n",
       "    </tr>\n",
       "    <tr>\n",
       "      <th>1</th>\n",
       "      <td>case clean running water avail use hand saniti...</td>\n",
       "      <td>[0, 2, 0, 0, 0, 0, 0, 0, 0, 0, 0, 0, 0, 0, -2, 0]</td>\n",
       "      <td>Positive, negative and neutral are all present...</td>\n",
       "      <td>[0, 0, 0]</td>\n",
       "      <td>[0, 2, 0, -2, 0]</td>\n",
       "      <td>[-2] \"0\" [2]</td>\n",
       "      <td>[-2] \"0\" [2]</td>\n",
       "      <td>[-2] \"0\" [2]</td>\n",
       "      <td>Neutral, Neutral, Neutral</td>\n",
       "      <td>Neutral</td>\n",
       "    </tr>\n",
       "    <tr>\n",
       "      <th>2</th>\n",
       "      <td>coronavirus florida miami dade reach case stat...</td>\n",
       "      <td>[0, 0, 0, 0, 1, 0, 0, 0, 0, 0, -3, 0]</td>\n",
       "      <td>Positive, negative and neutral are all present...</td>\n",
       "      <td>[0, 0, 0]</td>\n",
       "      <td>[0, 1, 0, -3, 0]</td>\n",
       "      <td>[-3] \"0\" [1]</td>\n",
       "      <td>[-3] \"0\" [1]</td>\n",
       "      <td>[-3] \"0\" [1]</td>\n",
       "      <td>Negative, Negative, Negative</td>\n",
       "      <td>Negative</td>\n",
       "    </tr>\n",
       "    <tr>\n",
       "      <th>3</th>\n",
       "      <td>mention particular one cant remember name use ...</td>\n",
       "      <td>[0, 0, 0, 0, 0, 0, 0, 0, 0, 0, 0, 0, 0, 0, 0, ...</td>\n",
       "      <td>Positive, negative and neutral are all present...</td>\n",
       "      <td>[0, 0, 1]</td>\n",
       "      <td>[0, 0, -2, 1]</td>\n",
       "      <td>[-2] \"0\" [1]</td>\n",
       "      <td>[-2] \"0\" [1]</td>\n",
       "      <td>[0, 0, -2] \"1\" []</td>\n",
       "      <td>Negative, Negative, Negative</td>\n",
       "      <td>Negative</td>\n",
       "    </tr>\n",
       "    <tr>\n",
       "      <th>4</th>\n",
       "      <td>alphabets drone delivery company wing see boom...</td>\n",
       "      <td>[0, 0, 0, 0, 0, 0, 0, 0, 0, 0, 0, 0, 0, 0, 0, ...</td>\n",
       "      <td>Sentiment scores are only Neutral and Neutral</td>\n",
       "      <td>skip</td>\n",
       "      <td>skip</td>\n",
       "      <td>skip</td>\n",
       "      <td>skip</td>\n",
       "      <td>skip</td>\n",
       "      <td>skip</td>\n",
       "      <td>Neutral</td>\n",
       "    </tr>\n",
       "  </tbody>\n",
       "</table>\n",
       "</div>"
      ],
      "text/plain": [
       "                                     Tokenized Words  \\\n",
       "0        whenever come insid even walk grocery store   \n",
       "1  case clean running water avail use hand saniti...   \n",
       "2  coronavirus florida miami dade reach case stat...   \n",
       "3  mention particular one cant remember name use ...   \n",
       "4  alphabets drone delivery company wing see boom...   \n",
       "\n",
       "                                    Sentiment Scores  \\\n",
       "0                              [0, 0, 0, 0, 0, 0, 0]   \n",
       "1  [0, 2, 0, 0, 0, 0, 0, 0, 0, 0, 0, 0, 0, 0, -2, 0]   \n",
       "2              [0, 0, 0, 0, 1, 0, 0, 0, 0, 0, -3, 0]   \n",
       "3  [0, 0, 0, 0, 0, 0, 0, 0, 0, 0, 0, 0, 0, 0, 0, ...   \n",
       "4  [0, 0, 0, 0, 0, 0, 0, 0, 0, 0, 0, 0, 0, 0, 0, ...   \n",
       "\n",
       "                                        Skip Conquer Chosen Pivot  \\\n",
       "0      Sentiment scores are only Neutral and Neutral         skip   \n",
       "1  Positive, negative and neutral are all present...    [0, 0, 0]   \n",
       "2  Positive, negative and neutral are all present...    [0, 0, 0]   \n",
       "3  Positive, negative and neutral are all present...    [0, 0, 1]   \n",
       "4      Sentiment scores are only Neutral and Neutral         skip   \n",
       "\n",
       "  Simplified Zeroes         First           Mid               Last  \\\n",
       "0              skip          skip          skip               skip   \n",
       "1  [0, 2, 0, -2, 0]  [-2] \"0\" [2]  [-2] \"0\" [2]       [-2] \"0\" [2]   \n",
       "2  [0, 1, 0, -3, 0]  [-3] \"0\" [1]  [-3] \"0\" [1]       [-3] \"0\" [1]   \n",
       "3     [0, 0, -2, 1]  [-2] \"0\" [1]  [-2] \"0\" [1]  [0, 0, -2] \"1\" []   \n",
       "4              skip          skip          skip               skip   \n",
       "\n",
       "               Pivot Sentiments Final Sentiment  \n",
       "0                          skip         Neutral  \n",
       "1     Neutral, Neutral, Neutral         Neutral  \n",
       "2  Negative, Negative, Negative        Negative  \n",
       "3  Negative, Negative, Negative        Negative  \n",
       "4                          skip         Neutral  "
      ]
     },
     "execution_count": 235,
     "metadata": {},
     "output_type": "execute_result"
    }
   ],
   "source": [
    "print(\"Whole Dataset\")\n",
    "pd.read_csv(RES_FILE_WHOLE).head()"
   ]
  },
  {
   "cell_type": "code",
   "execution_count": 236,
   "id": "49cbbcc7",
   "metadata": {
    "scrolled": true
   },
   "outputs": [
    {
     "name": "stdout",
     "output_type": "stream",
     "text": [
      "Test Dataset\n"
     ]
    },
    {
     "data": {
      "text/html": [
       "<div>\n",
       "<style scoped>\n",
       "    .dataframe tbody tr th:only-of-type {\n",
       "        vertical-align: middle;\n",
       "    }\n",
       "\n",
       "    .dataframe tbody tr th {\n",
       "        vertical-align: top;\n",
       "    }\n",
       "\n",
       "    .dataframe thead th {\n",
       "        text-align: right;\n",
       "    }\n",
       "</style>\n",
       "<table border=\"1\" class=\"dataframe\">\n",
       "  <thead>\n",
       "    <tr style=\"text-align: right;\">\n",
       "      <th></th>\n",
       "      <th>Tokenized Words</th>\n",
       "      <th>Sentiment Scores</th>\n",
       "      <th>Skip Conquer</th>\n",
       "      <th>Chosen Pivot</th>\n",
       "      <th>Simplified Zeroes</th>\n",
       "      <th>First</th>\n",
       "      <th>Mid</th>\n",
       "      <th>Last</th>\n",
       "      <th>Pivot Sentiments</th>\n",
       "      <th>Final Sentiment</th>\n",
       "    </tr>\n",
       "  </thead>\n",
       "  <tbody>\n",
       "    <tr>\n",
       "      <th>0</th>\n",
       "      <td>stock cleaning supply desinfectants hand sanit...</td>\n",
       "      <td>[0, 0, 0, 0, 0, 0, 0, 0, 0, 0, -3, 0, 0, 0, 0,...</td>\n",
       "      <td>Sentiment scores are only Neutral and Negative</td>\n",
       "      <td>skip</td>\n",
       "      <td>skip</td>\n",
       "      <td>skip</td>\n",
       "      <td>skip</td>\n",
       "      <td>skip</td>\n",
       "      <td>skip</td>\n",
       "      <td>Negative</td>\n",
       "    </tr>\n",
       "    <tr>\n",
       "      <th>1</th>\n",
       "      <td>right yes family fun today jokes asid plea hoa...</td>\n",
       "      <td>[0, 1, 0, 4, 0, 2, 0, 0, 0, 0, 0, 0]</td>\n",
       "      <td>Sentiment scores are only Neutral and Positive</td>\n",
       "      <td>skip</td>\n",
       "      <td>skip</td>\n",
       "      <td>skip</td>\n",
       "      <td>skip</td>\n",
       "      <td>skip</td>\n",
       "      <td>skip</td>\n",
       "      <td>Positive</td>\n",
       "    </tr>\n",
       "    <tr>\n",
       "      <th>2</th>\n",
       "      <td>gf talk skype maintain distance</td>\n",
       "      <td>[0, 0, 0, 0, 0]</td>\n",
       "      <td>Sentiment scores are only Neutral and Neutral</td>\n",
       "      <td>skip</td>\n",
       "      <td>skip</td>\n",
       "      <td>skip</td>\n",
       "      <td>skip</td>\n",
       "      <td>skip</td>\n",
       "      <td>skip</td>\n",
       "      <td>Neutral</td>\n",
       "    </tr>\n",
       "    <tr>\n",
       "      <th>3</th>\n",
       "      <td>work grocery store work pet store import pet o...</td>\n",
       "      <td>[0, 0, 0, 0, 0, 0, 0, 0, 0, 0, 0, 0, 0, -2, 0,...</td>\n",
       "      <td>Sentiment scores are only Neutral and Negative</td>\n",
       "      <td>skip</td>\n",
       "      <td>skip</td>\n",
       "      <td>skip</td>\n",
       "      <td>skip</td>\n",
       "      <td>skip</td>\n",
       "      <td>skip</td>\n",
       "      <td>Negative</td>\n",
       "    </tr>\n",
       "    <tr>\n",
       "      <th>4</th>\n",
       "      <td>psa low gas price direct outcome covid point f...</td>\n",
       "      <td>[0, 0, 0, 0, 0, 0, 0, 0, 0, 0, 0]</td>\n",
       "      <td>Sentiment scores are only Neutral and Neutral</td>\n",
       "      <td>skip</td>\n",
       "      <td>skip</td>\n",
       "      <td>skip</td>\n",
       "      <td>skip</td>\n",
       "      <td>skip</td>\n",
       "      <td>skip</td>\n",
       "      <td>Neutral</td>\n",
       "    </tr>\n",
       "  </tbody>\n",
       "</table>\n",
       "</div>"
      ],
      "text/plain": [
       "                                     Tokenized Words  \\\n",
       "0  stock cleaning supply desinfectants hand sanit...   \n",
       "1  right yes family fun today jokes asid plea hoa...   \n",
       "2                    gf talk skype maintain distance   \n",
       "3  work grocery store work pet store import pet o...   \n",
       "4  psa low gas price direct outcome covid point f...   \n",
       "\n",
       "                                    Sentiment Scores  \\\n",
       "0  [0, 0, 0, 0, 0, 0, 0, 0, 0, 0, -3, 0, 0, 0, 0,...   \n",
       "1               [0, 1, 0, 4, 0, 2, 0, 0, 0, 0, 0, 0]   \n",
       "2                                    [0, 0, 0, 0, 0]   \n",
       "3  [0, 0, 0, 0, 0, 0, 0, 0, 0, 0, 0, 0, 0, -2, 0,...   \n",
       "4                  [0, 0, 0, 0, 0, 0, 0, 0, 0, 0, 0]   \n",
       "\n",
       "                                     Skip Conquer Chosen Pivot  \\\n",
       "0  Sentiment scores are only Neutral and Negative         skip   \n",
       "1  Sentiment scores are only Neutral and Positive         skip   \n",
       "2   Sentiment scores are only Neutral and Neutral         skip   \n",
       "3  Sentiment scores are only Neutral and Negative         skip   \n",
       "4   Sentiment scores are only Neutral and Neutral         skip   \n",
       "\n",
       "  Simplified Zeroes First   Mid  Last Pivot Sentiments Final Sentiment  \n",
       "0              skip  skip  skip  skip             skip        Negative  \n",
       "1              skip  skip  skip  skip             skip        Positive  \n",
       "2              skip  skip  skip  skip             skip         Neutral  \n",
       "3              skip  skip  skip  skip             skip        Negative  \n",
       "4              skip  skip  skip  skip             skip         Neutral  "
      ]
     },
     "execution_count": 236,
     "metadata": {},
     "output_type": "execute_result"
    }
   ],
   "source": [
    "print(\"Test Dataset\")\n",
    "pd.read_csv(RES_FILE_TEST).head()"
   ]
  },
  {
   "cell_type": "code",
   "execution_count": 237,
   "id": "6a514a3d",
   "metadata": {},
   "outputs": [
    {
     "name": "stdout",
     "output_type": "stream",
     "text": [
      "Whole Dataset Confusion Matrix\n"
     ]
    },
    {
     "data": {
      "text/plain": [
       "<sklearn.metrics._plot.confusion_matrix.ConfusionMatrixDisplay at 0x18e7bc83850>"
      ]
     },
     "execution_count": 237,
     "metadata": {},
     "output_type": "execute_result"
    },
    {
     "data": {
      "image/png": "[encoded data removed]",
      "text/plain": [
       "<Figure size 720x360 with 2 Axes>"
      ]
     },
     "metadata": {},
     "output_type": "display_data"
    }
   ],
   "source": [
    "sns.set_style(\"white\")\n",
    "print(\"Whole Dataset Confusion Matrix\")\n",
    "c_matrix = confusion_matrix(sentiments_true_whole, sentiments_pred_whole)\n",
    "ConfusionMatrixDisplay(c_matrix, display_labels=SENTIMENTS_DICT.keys()).plot()"
   ]
  },
  {
   "cell_type": "code",
   "execution_count": 238,
   "id": "ade7dce0",
   "metadata": {
    "scrolled": false
   },
   "outputs": [
    {
     "name": "stdout",
     "output_type": "stream",
     "text": [
      "SentiPivot Test Dataset Confusion Matrix\n"
     ]
    },
    {
     "data": {
      "text/plain": [
       "<sklearn.metrics._plot.confusion_matrix.ConfusionMatrixDisplay at 0x18e101835e0>"
      ]
     },
     "execution_count": 238,
     "metadata": {},
     "output_type": "execute_result"
    },
    {
     "data": {
      "image/png": "[encoded data removed]",
      "text/plain": [
       "<Figure size 720x360 with 2 Axes>"
      ]
     },
     "metadata": {},
     "output_type": "display_data"
    }
   ],
   "source": [
    "sns.set_style(\"white\")\n",
    "print(\"SentiPivot Test Dataset Confusion Matrix\")\n",
    "c_matrix = confusion_matrix(sentiments_true_test, sentiments_pred_test)\n",
    "ConfusionMatrixDisplay(c_matrix, display_labels=SENTIMENTS_DICT.keys()).plot()"
   ]
  },
  {
   "cell_type": "markdown",
   "id": "14646a79",
   "metadata": {},
   "source": [
    "## Affin vs Affin with SentiPivot"
   ]
  },
  {
   "cell_type": "markdown",
   "id": "d2eb0eda",
   "metadata": {},
   "source": [
    "###  with Affin"
   ]
  },
  {
   "cell_type": "code",
   "execution_count": 239,
   "id": "2def190c",
   "metadata": {
    "scrolled": true
   },
   "outputs": [],
   "source": [
    "aff_pred = []\n",
    "aff_scores = []\n",
    "for doc in tokenized_whole:\n",
    "    aff_score = int(AFF.score(doc))\n",
    "    aff_pred.append(convert_to_numerical_sentiment(aff_score))\n",
    "    aff_scores.append(aff_score)"
   ]
  },
  {
   "cell_type": "code",
   "execution_count": 240,
   "id": "160de56c",
   "metadata": {},
   "outputs": [
    {
     "data": {
      "text/html": [
       "<div>\n",
       "<style scoped>\n",
       "    .dataframe tbody tr th:only-of-type {\n",
       "        vertical-align: middle;\n",
       "    }\n",
       "\n",
       "    .dataframe tbody tr th {\n",
       "        vertical-align: top;\n",
       "    }\n",
       "\n",
       "    .dataframe thead th {\n",
       "        text-align: right;\n",
       "    }\n",
       "</style>\n",
       "<table border=\"1\" class=\"dataframe\">\n",
       "  <thead>\n",
       "    <tr style=\"text-align: right;\">\n",
       "      <th></th>\n",
       "      <th>score</th>\n",
       "      <th>sentiment</th>\n",
       "    </tr>\n",
       "  </thead>\n",
       "  <tbody>\n",
       "    <tr>\n",
       "      <th>0</th>\n",
       "      <td>0</td>\n",
       "      <td>Neutral</td>\n",
       "    </tr>\n",
       "    <tr>\n",
       "      <th>1</th>\n",
       "      <td>0</td>\n",
       "      <td>Neutral</td>\n",
       "    </tr>\n",
       "    <tr>\n",
       "      <th>2</th>\n",
       "      <td>-2</td>\n",
       "      <td>Negative</td>\n",
       "    </tr>\n",
       "    <tr>\n",
       "      <th>3</th>\n",
       "      <td>-1</td>\n",
       "      <td>Negative</td>\n",
       "    </tr>\n",
       "    <tr>\n",
       "      <th>4</th>\n",
       "      <td>0</td>\n",
       "      <td>Neutral</td>\n",
       "    </tr>\n",
       "  </tbody>\n",
       "</table>\n",
       "</div>"
      ],
      "text/plain": [
       "   score sentiment\n",
       "0      0   Neutral\n",
       "1      0   Neutral\n",
       "2     -2  Negative\n",
       "3     -1  Negative\n",
       "4      0   Neutral"
      ]
     },
     "execution_count": 240,
     "metadata": {},
     "output_type": "execute_result"
    }
   ],
   "source": [
    "aff_df = pd.DataFrame({\"score\":aff_scores, \"sentiment\":[SENTIMENTS_DICT[s] for s in aff_pred]})\n",
    "aff_df.head()"
   ]
  },
  {
   "cell_type": "code",
   "execution_count": 241,
   "id": "1ca6dab6",
   "metadata": {},
   "outputs": [],
   "source": [
    "aff_df.to_csv(AFF_RES, index=True)"
   ]
  },
  {
   "cell_type": "code",
   "execution_count": 242,
   "id": "8270490f",
   "metadata": {},
   "outputs": [
    {
     "name": "stdout",
     "output_type": "stream",
     "text": [
      "Affin Whole Dataset Confusion Matrix\n"
     ]
    },
    {
     "data": {
      "text/plain": [
       "<sklearn.metrics._plot.confusion_matrix.ConfusionMatrixDisplay at 0x18e7c611cd0>"
      ]
     },
     "execution_count": 242,
     "metadata": {},
     "output_type": "execute_result"
    },
    {
     "data": {
      "image/png": "[encoded data removed]",
      "text/plain": [
       "<Figure size 720x360 with 2 Axes>"
      ]
     },
     "metadata": {},
     "output_type": "display_data"
    }
   ],
   "source": [
    "sns.set_style(\"white\")\n",
    "print(\"Affin Whole Dataset Confusion Matrix\")\n",
    "c_matrix = confusion_matrix(sentiments_true_whole, aff_pred)\n",
    "ConfusionMatrixDisplay(c_matrix, display_labels=SENTIMENTS_DICT.keys()).plot()\n"
   ]
  },
  {
   "cell_type": "markdown",
   "id": "86bf9d33",
   "metadata": {},
   "source": [
    "### Comparison"
   ]
  },
  {
   "cell_type": "code",
   "execution_count": 243,
   "id": "31deb7c9",
   "metadata": {},
   "outputs": [],
   "source": [
    "def create_accuracy_bar_plot_df(model, bar_plot_scores, y_true, y_pred, overall_acc):\n",
    "    bar_plot_keys = list(bar_plot_scores.keys())\n",
    "    \n",
    "    postive_indexes = []\n",
    "    negative_indexes = []\n",
    "    neutral_indexes = []\n",
    "    \n",
    "    for index,label in enumerate(y_true):\n",
    "        if label > 0:\n",
    "            postive_indexes.append(index)\n",
    "        elif label < 0:\n",
    "            negative_indexes.append(index)\n",
    "        else:\n",
    "            neutral_indexes.append(index)\n",
    "            \n",
    "    pos_acc = accuracy_score(np.array(y_true)[postive_indexes], np.array(y_pred)[postive_indexes]) * 100\n",
    "    neg_acc = accuracy_score(np.array(y_true)[negative_indexes], np.array(y_pred)[negative_indexes]) * 100\n",
    "    neu_acc = accuracy_score(np.array(y_true)[neutral_indexes], np.array(y_pred)[neutral_indexes]) * 100\n",
    "    \n",
    "    bar_plot_scores[bar_plot_keys[0]].extend([\"Positive Accuracy\", \"Negative Accuracy\", \"Neutral Accuracy\", \"Overall Accuracy\"])\n",
    "    bar_plot_scores[bar_plot_keys[1]].extend([pos_acc, neg_acc, neu_acc, overall_acc * 100])\n",
    "    bar_plot_scores[bar_plot_keys[2]].extend(np.full(4, model))\n",
    "    \n",
    "    return pos_acc, neg_acc, neu_acc, overall_acc"
   ]
  },
  {
   "cell_type": "code",
   "execution_count": 244,
   "id": "7370d981",
   "metadata": {},
   "outputs": [],
   "source": [
    "def create_all_scores_bar_plot_df(model, bar_plot_scores, acc, prec, rec, f1):\n",
    "    bar_plot_keys = list(bar_plot_scores.keys())\n",
    "    \n",
    "    bar_plot_scores[bar_plot_keys[0]].extend([\"Accuracy\", \"Precision\", \"Recall\", \"F1-Score\"])\n",
    "    bar_plot_scores[bar_plot_keys[1]].extend([acc * 100, prec * 100, rec * 100, f1 * 100])\n",
    "    bar_plot_scores[bar_plot_keys[2]].extend(np.full(4, model))"
   ]
  },
  {
   "cell_type": "code",
   "execution_count": 245,
   "id": "4f2b754c",
   "metadata": {},
   "outputs": [],
   "source": [
    "methods = {\n",
    "    \"Affin\": aff_pred,\n",
    "    SENTI_PIVOT: sentiments_pred_whole\n",
    "}\n",
    "\n",
    "scores = {\n",
    "    \"Model\":[],\n",
    "    \"Accuracy\":[],\n",
    "    \"Precision\":[],\n",
    "    \"Recall\":[],\n",
    "    \"F1-Score\":[]\n",
    "}\n",
    "\n",
    "method_acc_bar_plot_scores = {\n",
    "    \"Accuracy Type\": [],\n",
    "    \"Accuracies\": [],\n",
    "    \"Model\": []\n",
    "}\n",
    "\n",
    "method_acc_table_scores = {\n",
    "    \"model\":[],\n",
    "    \"Positive Accuracy\":[],\n",
    "    \"Negative Accuracy\":[],\n",
    "    \"Neutral Accuracy\":[],\n",
    "    \"Overall Accuracy\":[],\n",
    "}\n",
    "\n",
    "\n",
    "method_allscores_bar_plot_scores = {\n",
    "    \"Scoring\": [],\n",
    "    \"Scores\": [],\n",
    "    \"Model\": []\n",
    "}"
   ]
  },
  {
   "cell_type": "code",
   "execution_count": 246,
   "id": "ae1c6775",
   "metadata": {
    "scrolled": true
   },
   "outputs": [],
   "source": [
    "for method in list(methods.keys()):\n",
    "    prediction = methods[method]\n",
    "    scores[\"Model\"].append(method)\n",
    "    \n",
    "    accuracy = accuracy_score(sentiments_true_whole, prediction)\n",
    "    precision = precision_score(sentiments_true_whole, prediction, average=SCORE_AVERAGING)\n",
    "    recall = recall_score(sentiments_true_whole, prediction, average=SCORE_AVERAGING)\n",
    "    f1 = f1_score(sentiments_true_whole, prediction, average=SCORE_AVERAGING)\n",
    "    \n",
    "    scores[\"Accuracy\"].append(accuracy)\n",
    "    scores[\"Precision\"].append(precision)\n",
    "    scores[\"Recall\"].append(recall)\n",
    "    scores[\"F1-Score\"].append(f1)\n",
    "    \n",
    "    pos, neg, neu, oall = create_accuracy_bar_plot_df(method, method_acc_bar_plot_scores, sentiments_true_whole, prediction, accuracy)\n",
    "    create_all_scores_bar_plot_df(method, method_allscores_bar_plot_scores, accuracy, precision, recall, f1)\n",
    "    \n",
    "    method_acc_table_scores[\"model\"].append(method)\n",
    "    method_acc_table_scores[\"Positive Accuracy\"].append(pos)\n",
    "    method_acc_table_scores[\"Negative Accuracy\"].append(neg)\n",
    "    method_acc_table_scores[\"Neutral Accuracy\"].append(neu)\n",
    "    method_acc_table_scores[\"Overall Accuracy\"].append(oall)"
   ]
  },
  {
   "cell_type": "code",
   "execution_count": 247,
   "id": "8fc9b5ef",
   "metadata": {
    "scrolled": true
   },
   "outputs": [
    {
     "data": {
      "text/html": [
       "<div>\n",
       "<style scoped>\n",
       "    .dataframe tbody tr th:only-of-type {\n",
       "        vertical-align: middle;\n",
       "    }\n",
       "\n",
       "    .dataframe tbody tr th {\n",
       "        vertical-align: top;\n",
       "    }\n",
       "\n",
       "    .dataframe thead th {\n",
       "        text-align: right;\n",
       "    }\n",
       "</style>\n",
       "<table border=\"1\" class=\"dataframe\">\n",
       "  <thead>\n",
       "    <tr style=\"text-align: right;\">\n",
       "      <th></th>\n",
       "      <th>Model</th>\n",
       "      <th>Accuracy</th>\n",
       "      <th>Precision</th>\n",
       "      <th>Recall</th>\n",
       "      <th>F1-Score</th>\n",
       "    </tr>\n",
       "  </thead>\n",
       "  <tbody>\n",
       "    <tr>\n",
       "      <th>0</th>\n",
       "      <td>Affin</td>\n",
       "      <td>0.740746</td>\n",
       "      <td>0.722988</td>\n",
       "      <td>0.748798</td>\n",
       "      <td>0.725732</td>\n",
       "    </tr>\n",
       "    <tr>\n",
       "      <th>1</th>\n",
       "      <td>SentiPivot</td>\n",
       "      <td>0.750479</td>\n",
       "      <td>0.731370</td>\n",
       "      <td>0.754319</td>\n",
       "      <td>0.737791</td>\n",
       "    </tr>\n",
       "  </tbody>\n",
       "</table>\n",
       "</div>"
      ],
      "text/plain": [
       "        Model  Accuracy  Precision    Recall  F1-Score\n",
       "0       Affin  0.740746   0.722988  0.748798  0.725732\n",
       "1  SentiPivot  0.750479   0.731370  0.754319  0.737791"
      ]
     },
     "execution_count": 247,
     "metadata": {},
     "output_type": "execute_result"
    }
   ],
   "source": [
    "method_comparison_df = pd.DataFrame(scores)\n",
    "method_comparison_df"
   ]
  },
  {
   "cell_type": "code",
   "execution_count": 248,
   "id": "6d4dd92a",
   "metadata": {},
   "outputs": [
    {
     "data": {
      "text/html": [
       "<div>\n",
       "<style scoped>\n",
       "    .dataframe tbody tr th:only-of-type {\n",
       "        vertical-align: middle;\n",
       "    }\n",
       "\n",
       "    .dataframe tbody tr th {\n",
       "        vertical-align: top;\n",
       "    }\n",
       "\n",
       "    .dataframe thead th {\n",
       "        text-align: right;\n",
       "    }\n",
       "</style>\n",
       "<table border=\"1\" class=\"dataframe\">\n",
       "  <thead>\n",
       "    <tr style=\"text-align: right;\">\n",
       "      <th></th>\n",
       "      <th>model</th>\n",
       "      <th>Positive Accuracy</th>\n",
       "      <th>Negative Accuracy</th>\n",
       "      <th>Neutral Accuracy</th>\n",
       "      <th>Overall Accuracy</th>\n",
       "    </tr>\n",
       "  </thead>\n",
       "  <tbody>\n",
       "    <tr>\n",
       "      <th>0</th>\n",
       "      <td>Affin</td>\n",
       "      <td>68.912711</td>\n",
       "      <td>78.461538</td>\n",
       "      <td>77.26504</td>\n",
       "      <td>0.740746</td>\n",
       "    </tr>\n",
       "    <tr>\n",
       "      <th>1</th>\n",
       "      <td>SentiPivot</td>\n",
       "      <td>71.123022</td>\n",
       "      <td>79.031122</td>\n",
       "      <td>76.14158</td>\n",
       "      <td>0.750479</td>\n",
       "    </tr>\n",
       "  </tbody>\n",
       "</table>\n",
       "</div>"
      ],
      "text/plain": [
       "        model  Positive Accuracy  Negative Accuracy  Neutral Accuracy  \\\n",
       "0       Affin          68.912711          78.461538          77.26504   \n",
       "1  SentiPivot          71.123022          79.031122          76.14158   \n",
       "\n",
       "   Overall Accuracy  \n",
       "0          0.740746  \n",
       "1          0.750479  "
      ]
     },
     "execution_count": 248,
     "metadata": {},
     "output_type": "execute_result"
    }
   ],
   "source": [
    "method_accuracy_df = pd.DataFrame(method_acc_table_scores)\n",
    "method_accuracy_df"
   ]
  },
  {
   "cell_type": "code",
   "execution_count": 249,
   "id": "255e9079",
   "metadata": {},
   "outputs": [],
   "source": [
    "method_comparison_df.to_csv(AFFIN_VS_SPIVOT_COMPARISON_FILE,  index=False)\n",
    "method_accuracy_df.to_csv(AFFIN_VS_SPIVOT_ACCURACY_FILE, index=False)"
   ]
  },
  {
   "cell_type": "code",
   "execution_count": 250,
   "id": "2684250c",
   "metadata": {
    "scrolled": true
   },
   "outputs": [
    {
     "data": {
      "text/plain": [
       "<matplotlib.legend.Legend at 0x18e13125730>"
      ]
     },
     "execution_count": 250,
     "metadata": {},
     "output_type": "execute_result"
    },
    {
     "data": {
      "image/png": "[encoded data removed]",
      "text/plain": [
       "<Figure size 720x360 with 1 Axes>"
      ]
     },
     "metadata": {},
     "output_type": "display_data"
    }
   ],
   "source": [
    "sns.set_style(\"whitegrid\")\n",
    "method_bar_plot = sns.barplot(x=\"Accuracy Type\", y=\"Accuracies\", hue=\"Model\", palette=VISUAL_PALETTE, data=method_acc_bar_plot_scores) \n",
    "method_bar_plot.set_title(\"Model Accuracy\")\n",
    "method_bar_plot.set(ylabel='Accuracy (%)')\n",
    "plt.legend(bbox_to_anchor=(1.01, 1), loc=2)"
   ]
  },
  {
   "cell_type": "code",
   "execution_count": 251,
   "id": "1e4147e2",
   "metadata": {},
   "outputs": [
    {
     "data": {
      "text/plain": [
       "<matplotlib.legend.Legend at 0x18e1319cdf0>"
      ]
     },
     "execution_count": 251,
     "metadata": {},
     "output_type": "execute_result"
    },
    {
     "data": {
      "image/png": "[encoded data removed]",
      "text/plain": [
       "<Figure size 720x360 with 1 Axes>"
      ]
     },
     "metadata": {},
     "output_type": "display_data"
    }
   ],
   "source": [
    "sns.set_style(\"whitegrid\")\n",
    "method_bar_plot = sns.barplot(x=\"Scoring\", y=\"Scores\", hue=\"Model\", palette=VISUAL_PALETTE, data=method_allscores_bar_plot_scores) \n",
    "method_bar_plot.set_title(\"Model All Scores\")\n",
    "method_bar_plot.set(ylabel='Score (%)')\n",
    "plt.legend(bbox_to_anchor=(1.01, 1), loc=2)"
   ]
  },
  {
   "cell_type": "markdown",
   "id": "68edab1a",
   "metadata": {},
   "source": [
    "## Other Models"
   ]
  },
  {
   "cell_type": "code",
   "execution_count": 252,
   "id": "cc66e63a",
   "metadata": {},
   "outputs": [],
   "source": [
    "from sklearn.tree import DecisionTreeClassifier\n",
    "from sklearn.neighbors import KNeighborsClassifier\n",
    "from sklearn.svm import SVC\n",
    "from sklearn.ensemble import RandomForestClassifier"
   ]
  },
  {
   "cell_type": "code",
   "execution_count": 253,
   "id": "9be82f67",
   "metadata": {},
   "outputs": [],
   "source": [
    "def convert_to_aff_score(X, feature_names):\n",
    "    rows = []\n",
    "    cols = []\n",
    "    data = []\n",
    "  \n",
    "    for row, x in enumerate(X):\n",
    "        features_dict = dict.fromkeys(feature_names, 0)\n",
    "        tokenized = x.split()\n",
    "        for token in tokenized:\n",
    "            try:\n",
    "                features_dict[token]+= AFF.score(token)\n",
    "            except KeyError:\n",
    "                pass\n",
    "\n",
    "        for feature_index, feature_name in enumerate(list(features_dict.keys())):\n",
    "            score = features_dict[feature_name]\n",
    "            if score != 0:\n",
    "                rows.append(row)\n",
    "                cols.append(feature_index)\n",
    "                data.append(score)   \n",
    "    \n",
    "    return csr_matrix((data,(rows,cols)), (len(X), len(feature_names)))"
   ]
  },
  {
   "cell_type": "markdown",
   "id": "e25dca35",
   "metadata": {},
   "source": [
    "### Prepare inputs"
   ]
  },
  {
   "cell_type": "code",
   "execution_count": 254,
   "id": "e017a849",
   "metadata": {},
   "outputs": [],
   "source": [
    "# Get feature names\n",
    "cv = CountVectorizer(ngram_range=(1,1))\n",
    "cv.fit_transform(tokenized_train)\n",
    "feature_names= cv.get_feature_names_out()"
   ]
  },
  {
   "cell_type": "code",
   "execution_count": 255,
   "id": "8b323280",
   "metadata": {},
   "outputs": [],
   "source": [
    "# Convert features to affin sentiment score\n",
    "X_train_sparse = convert_to_aff_score(tokenized_train, feature_names)\n",
    "X_test_sparse = convert_to_aff_score(tokenized_test, feature_names)"
   ]
  },
  {
   "cell_type": "markdown",
   "id": "583c4bd6",
   "metadata": {},
   "source": [
    "### Classification"
   ]
  },
  {
   "cell_type": "code",
   "execution_count": 256,
   "id": "af413f48",
   "metadata": {},
   "outputs": [],
   "source": [
    "models = {\n",
    "    \"Decision Tree\": DecisionTreeClassifier(random_state=RAND_STATE),\n",
    "    \"KNeighbors\": KNeighborsClassifier(),\n",
    "    SENTI_PIVOT: \"\",\n",
    "    \"SVC\": SVC(random_state=RAND_STATE),\n",
    "    \"Random Forest\":RandomForestClassifier(random_state=RAND_STATE),\n",
    "}"
   ]
  },
  {
   "cell_type": "code",
   "execution_count": 257,
   "id": "f31f4019",
   "metadata": {},
   "outputs": [],
   "source": [
    "scores = {\n",
    "    \"Model\":[],\n",
    "    \"Accuracy\":[],\n",
    "    \"Precision\":[],\n",
    "    \"Recall\":[],\n",
    "    \"F1-Score\":[]\n",
    "}\n",
    "\n",
    "model_bar_plot_scores = {\n",
    "    \"Accuracy Type\": [],\n",
    "    \"Accuracies\": [],\n",
    "    \"Model\": []\n",
    "}\n",
    "model_allscores_bar_plot_scores = {\n",
    "    \"Scoring\": [],\n",
    "    \"Scores\": [],\n",
    "    \"Model\": []\n",
    "}\n",
    "\n",
    "model_acc_table_scores = {\n",
    "    \"model\":[],\n",
    "    \"Positive Accuracy\":[],\n",
    "    \"Negative Accuracy\":[],\n",
    "    \"Neutral Accuracy\":[],\n",
    "    \"Overall Accuracy\":[]\n",
    "}\n",
    "other_model_confusion_matrices = {}"
   ]
  },
  {
   "cell_type": "code",
   "execution_count": 258,
   "id": "8f86030f",
   "metadata": {
    "scrolled": false
   },
   "outputs": [
    {
     "name": "stdout",
     "output_type": "stream",
     "text": [
      "Decision Tree  ...\n",
      "KNeighbors  ...\n",
      "SentiPivot  ...\n",
      "SVC  ...\n",
      "Random Forest  ...\n"
     ]
    }
   ],
   "source": [
    "# Train test other models\n",
    "for model_name in list(models.keys()):\n",
    "    model = models[model_name]\n",
    "    print(model_name, \" ...\")\n",
    "    \n",
    "    if model_name == SENTI_PIVOT: \n",
    "        pred = sentiments_pred_test\n",
    "        \n",
    "    else:\n",
    "        model.fit(X_train_sparse, sentiments_true_train)\n",
    "        pred = model.predict(X_test_sparse)\n",
    "        \n",
    "    accuracy =  accuracy_score(sentiments_true_test, pred)\n",
    "    precision = precision_score(sentiments_true_test, pred, average=SCORE_AVERAGING)\n",
    "    recall = recall_score(sentiments_true_test, pred, average=SCORE_AVERAGING)\n",
    "    f1 = f1_score(sentiments_true_test, pred, average=SCORE_AVERAGING)\n",
    "    \n",
    "    scores[\"Model\"].append(model_name)\n",
    "    scores[\"Accuracy\"].append(accuracy)\n",
    "    scores[\"Precision\"].append(precision)\n",
    "    scores[\"Recall\"].append(recall)\n",
    "    scores[\"F1-Score\"].append(f1)\n",
    "\n",
    "    other_model_confusion_matrices[model_name] = confusion_matrix(sentiments_true_test, pred)\n",
    "    pos, neg, neu, oall = create_accuracy_bar_plot_df(model_name, model_bar_plot_scores, sentiments_true_test, pred, accuracy)\n",
    "    create_all_scores_bar_plot_df(model_name, model_allscores_bar_plot_scores, accuracy, precision, recall, f1)\n",
    "    \n",
    "    model_acc_table_scores[\"model\"].append(model_name)\n",
    "    model_acc_table_scores[\"Positive Accuracy\"].append(pos)\n",
    "    model_acc_table_scores[\"Negative Accuracy\"].append(neg)\n",
    "    model_acc_table_scores[\"Neutral Accuracy\"].append(neu)\n",
    "    model_acc_table_scores[\"Overall Accuracy\"].append(oall)"
   ]
  },
  {
   "cell_type": "markdown",
   "id": "ed689969",
   "metadata": {},
   "source": [
    "### Confusion Matrices"
   ]
  },
  {
   "cell_type": "code",
   "execution_count": 259,
   "id": "def06f0b",
   "metadata": {
    "scrolled": true
   },
   "outputs": [
    {
     "name": "stdout",
     "output_type": "stream",
     "text": [
      "Decision Tree Confusion Matrix\n"
     ]
    },
    {
     "data": {
      "image/png": "[encoded data removed]",
      "text/plain": [
       "<Figure size 720x360 with 2 Axes>"
      ]
     },
     "metadata": {},
     "output_type": "display_data"
    },
    {
     "name": "stdout",
     "output_type": "stream",
     "text": [
      "KNeighbors Confusion Matrix\n"
     ]
    },
    {
     "data": {
      "image/png": "[encoded data removed]",
      "text/plain": [
       "<Figure size 720x360 with 2 Axes>"
      ]
     },
     "metadata": {},
     "output_type": "display_data"
    },
    {
     "name": "stdout",
     "output_type": "stream",
     "text": [
      "SentiPivot Confusion Matrix\n"
     ]
    },
    {
     "data": {
      "image/png": "[encoded data removed]",
      "text/plain": [
       "<Figure size 720x360 with 2 Axes>"
      ]
     },
     "metadata": {},
     "output_type": "display_data"
    },
    {
     "name": "stdout",
     "output_type": "stream",
     "text": [
      "SVC Confusion Matrix\n"
     ]
    },
    {
     "data": {
      "image/png": "[encoded data removed]",
      "text/plain": [
       "<Figure size 720x360 with 2 Axes>"
      ]
     },
     "metadata": {},
     "output_type": "display_data"
    },
    {
     "name": "stdout",
     "output_type": "stream",
     "text": [
      "Random Forest Confusion Matrix\n"
     ]
    },
    {
     "data": {
      "image/png": "[encoded data removed]",
      "text/plain": [
       "<Figure size 720x360 with 2 Axes>"
      ]
     },
     "metadata": {},
     "output_type": "display_data"
    }
   ],
   "source": [
    "sns.set_style(\"white\")\n",
    "for model_name in list(other_model_confusion_matrices.keys()):\n",
    "    print(\"{} Confusion Matrix\".format(model_name))\n",
    "    matrix = other_model_confusion_matrices[model_name]\n",
    "    ConfusionMatrixDisplay(matrix, display_labels=SENTIMENTS_DICT.keys()).plot()\n",
    "    plt.show()"
   ]
  },
  {
   "cell_type": "markdown",
   "id": "44d62fd0",
   "metadata": {},
   "source": [
    "## Model Comparisons"
   ]
  },
  {
   "cell_type": "code",
   "execution_count": 260,
   "id": "73895d0d",
   "metadata": {
    "scrolled": true
   },
   "outputs": [
    {
     "data": {
      "text/html": [
       "<div>\n",
       "<style scoped>\n",
       "    .dataframe tbody tr th:only-of-type {\n",
       "        vertical-align: middle;\n",
       "    }\n",
       "\n",
       "    .dataframe tbody tr th {\n",
       "        vertical-align: top;\n",
       "    }\n",
       "\n",
       "    .dataframe thead th {\n",
       "        text-align: right;\n",
       "    }\n",
       "</style>\n",
       "<table border=\"1\" class=\"dataframe\">\n",
       "  <thead>\n",
       "    <tr style=\"text-align: right;\">\n",
       "      <th></th>\n",
       "      <th>Model</th>\n",
       "      <th>Accuracy</th>\n",
       "      <th>Precision</th>\n",
       "      <th>Recall</th>\n",
       "      <th>F1-Score</th>\n",
       "    </tr>\n",
       "  </thead>\n",
       "  <tbody>\n",
       "    <tr>\n",
       "      <th>0</th>\n",
       "      <td>Decision Tree</td>\n",
       "      <td>0.732650</td>\n",
       "      <td>0.718604</td>\n",
       "      <td>0.749703</td>\n",
       "      <td>0.726866</td>\n",
       "    </tr>\n",
       "    <tr>\n",
       "      <th>1</th>\n",
       "      <td>KNeighbors</td>\n",
       "      <td>0.737178</td>\n",
       "      <td>0.722723</td>\n",
       "      <td>0.753904</td>\n",
       "      <td>0.730317</td>\n",
       "    </tr>\n",
       "    <tr>\n",
       "      <th>2</th>\n",
       "      <td>SentiPivot</td>\n",
       "      <td>0.746827</td>\n",
       "      <td>0.728657</td>\n",
       "      <td>0.750063</td>\n",
       "      <td>0.734587</td>\n",
       "    </tr>\n",
       "    <tr>\n",
       "      <th>3</th>\n",
       "      <td>SVC</td>\n",
       "      <td>0.767090</td>\n",
       "      <td>0.750695</td>\n",
       "      <td>0.777713</td>\n",
       "      <td>0.758352</td>\n",
       "    </tr>\n",
       "    <tr>\n",
       "      <th>4</th>\n",
       "      <td>Random Forest</td>\n",
       "      <td>0.757886</td>\n",
       "      <td>0.741949</td>\n",
       "      <td>0.769521</td>\n",
       "      <td>0.750097</td>\n",
       "    </tr>\n",
       "  </tbody>\n",
       "</table>\n",
       "</div>"
      ],
      "text/plain": [
       "           Model  Accuracy  Precision    Recall  F1-Score\n",
       "0  Decision Tree  0.732650   0.718604  0.749703  0.726866\n",
       "1     KNeighbors  0.737178   0.722723  0.753904  0.730317\n",
       "2     SentiPivot  0.746827   0.728657  0.750063  0.734587\n",
       "3            SVC  0.767090   0.750695  0.777713  0.758352\n",
       "4  Random Forest  0.757886   0.741949  0.769521  0.750097"
      ]
     },
     "execution_count": 260,
     "metadata": {},
     "output_type": "execute_result"
    }
   ],
   "source": [
    "model_comp_df = pd.DataFrame(scores)\n",
    "model_comp_df"
   ]
  },
  {
   "cell_type": "code",
   "execution_count": 261,
   "id": "7ec5c56c",
   "metadata": {},
   "outputs": [
    {
     "data": {
      "text/html": [
       "<div>\n",
       "<style scoped>\n",
       "    .dataframe tbody tr th:only-of-type {\n",
       "        vertical-align: middle;\n",
       "    }\n",
       "\n",
       "    .dataframe tbody tr th {\n",
       "        vertical-align: top;\n",
       "    }\n",
       "\n",
       "    .dataframe thead th {\n",
       "        text-align: right;\n",
       "    }\n",
       "</style>\n",
       "<table border=\"1\" class=\"dataframe\">\n",
       "  <thead>\n",
       "    <tr style=\"text-align: right;\">\n",
       "      <th></th>\n",
       "      <th>model</th>\n",
       "      <th>Positive Accuracy</th>\n",
       "      <th>Negative Accuracy</th>\n",
       "      <th>Neutral Accuracy</th>\n",
       "      <th>Overall Accuracy</th>\n",
       "    </tr>\n",
       "  </thead>\n",
       "  <tbody>\n",
       "    <tr>\n",
       "      <th>0</th>\n",
       "      <td>Decision Tree</td>\n",
       "      <td>70.412494</td>\n",
       "      <td>71.943015</td>\n",
       "      <td>82.555380</td>\n",
       "      <td>0.732650</td>\n",
       "    </tr>\n",
       "    <tr>\n",
       "      <th>1</th>\n",
       "      <td>KNeighbors</td>\n",
       "      <td>69.971142</td>\n",
       "      <td>73.684211</td>\n",
       "      <td>82.515823</td>\n",
       "      <td>0.737178</td>\n",
       "    </tr>\n",
       "    <tr>\n",
       "      <th>2</th>\n",
       "      <td>SentiPivot</td>\n",
       "      <td>70.972670</td>\n",
       "      <td>78.650574</td>\n",
       "      <td>75.395570</td>\n",
       "      <td>0.746827</td>\n",
       "    </tr>\n",
       "    <tr>\n",
       "      <th>3</th>\n",
       "      <td>SVC</td>\n",
       "      <td>72.483449</td>\n",
       "      <td>79.145231</td>\n",
       "      <td>81.685127</td>\n",
       "      <td>0.767090</td>\n",
       "    </tr>\n",
       "    <tr>\n",
       "      <th>4</th>\n",
       "      <td>Random Forest</td>\n",
       "      <td>74.418605</td>\n",
       "      <td>74.119509</td>\n",
       "      <td>82.318038</td>\n",
       "      <td>0.757886</td>\n",
       "    </tr>\n",
       "  </tbody>\n",
       "</table>\n",
       "</div>"
      ],
      "text/plain": [
       "           model  Positive Accuracy  Negative Accuracy  Neutral Accuracy  \\\n",
       "0  Decision Tree          70.412494          71.943015         82.555380   \n",
       "1     KNeighbors          69.971142          73.684211         82.515823   \n",
       "2     SentiPivot          70.972670          78.650574         75.395570   \n",
       "3            SVC          72.483449          79.145231         81.685127   \n",
       "4  Random Forest          74.418605          74.119509         82.318038   \n",
       "\n",
       "   Overall Accuracy  \n",
       "0          0.732650  \n",
       "1          0.737178  \n",
       "2          0.746827  \n",
       "3          0.767090  \n",
       "4          0.757886  "
      ]
     },
     "execution_count": 261,
     "metadata": {},
     "output_type": "execute_result"
    }
   ],
   "source": [
    "model_accuracy_df = pd.DataFrame(model_acc_table_scores)\n",
    "model_accuracy_df"
   ]
  },
  {
   "cell_type": "code",
   "execution_count": 262,
   "id": "a3c993a2",
   "metadata": {},
   "outputs": [],
   "source": [
    "model_comp_df.to_csv(MODEL_COMPARISONS_FILE, index=False)\n",
    "model_accuracy_df.to_csv(MODEL_ACCURACY_FILE, index=False)"
   ]
  },
  {
   "cell_type": "code",
   "execution_count": 263,
   "id": "8a34dbac",
   "metadata": {
    "scrolled": true
   },
   "outputs": [
    {
     "data": {
      "text/plain": [
       "<matplotlib.legend.Legend at 0x18e140f64f0>"
      ]
     },
     "execution_count": 263,
     "metadata": {},
     "output_type": "execute_result"
    },
    {
     "data": {
      "image/png": "[encoded data removed]",
      "text/plain": [
       "<Figure size 720x360 with 1 Axes>"
      ]
     },
     "metadata": {},
     "output_type": "display_data"
    }
   ],
   "source": [
    "sns.set_style(\"whitegrid\")\n",
    "model_accuracy_bar_plot = sns.barplot(x=\"Accuracy Type\", y=\"Accuracies\", hue=\"Model\", palette=VISUAL_PALETTE, data=model_bar_plot_scores) \n",
    "model_accuracy_bar_plot.set_title(\"Model Accuracy\")\n",
    "model_accuracy_bar_plot.set(ylabel='Accuracy (%)' )\n",
    "plt.legend(bbox_to_anchor=(1.01, 1), loc=2)"
   ]
  },
  {
   "cell_type": "code",
   "execution_count": 264,
   "id": "caf4a580",
   "metadata": {},
   "outputs": [
    {
     "data": {
      "text/plain": [
       "<matplotlib.legend.Legend at 0x18e172ffca0>"
      ]
     },
     "execution_count": 264,
     "metadata": {},
     "output_type": "execute_result"
    },
    {
     "data": {
      "image/png": "[encoded data removed]",
      "text/plain": [
       "<Figure size 720x360 with 1 Axes>"
      ]
     },
     "metadata": {},
     "output_type": "display_data"
    }
   ],
   "source": [
    "sns.set_style(\"whitegrid\")\n",
    "model_accuracy_bar_plot = sns.barplot(x=\"Scoring\", y=\"Scores\", hue=\"Model\", palette=VISUAL_PALETTE, data=model_allscores_bar_plot_scores) \n",
    "model_accuracy_bar_plot.set_title(\"Model All Scores\")\n",
    "model_accuracy_bar_plot.set(ylabel='Score (%)' )\n",
    "plt.legend(bbox_to_anchor=(1.01, 1), loc=2)"
   ]
  }
 ],
 "metadata": {
  "kernelspec": {
   "display_name": "Python 3 (ipykernel)",
   "language": "python",
   "name": "python3"
  },
  "language_info": {
   "codemirror_mode": {
    "name": "ipython",
    "version": 3
   },
   "file_extension": ".py",
   "mimetype": "text/x-python",
   "name": "python",
   "nbconvert_exporter": "python",
   "pygments_lexer": "ipython3",
   "version": "3.9.12"
  }
 },
 "nbformat": 4,
 "nbformat_minor": 5
}

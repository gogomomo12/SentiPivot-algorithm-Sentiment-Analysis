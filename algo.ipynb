{
 "cells": [
  {
   "cell_type": "code",
   "execution_count": 1,
   "id": "f258c7aa",
   "metadata": {},
   "outputs": [],
   "source": [
    "import math"
   ]
  },
  {
   "cell_type": "code",
   "execution_count": 2,
   "id": "8ccc6778",
   "metadata": {
    "scrolled": true
   },
   "outputs": [],
   "source": [
    "scores = [3, 0, 2, 0, 0, -1, 0, 1, 1, 0, -1]"
   ]
  },
  {
   "cell_type": "markdown",
   "id": "0278b849",
   "metadata": {},
   "source": [
    "## Assign the first, middle, and last pivot"
   ]
  },
  {
   "cell_type": "code",
   "execution_count": 3,
   "id": "34ebf1ea",
   "metadata": {
    "scrolled": true
   },
   "outputs": [
    {
     "data": {
      "text/plain": [
       "{'first': 0, 'mid': 5, 'last': 10}"
      ]
     },
     "execution_count": 3,
     "metadata": {},
     "output_type": "execute_result"
    }
   ],
   "source": [
    "pivot_index_dict = {}\n",
    "pivot_index_dict[\"first\"] = 0\n",
    "pivot_index_dict[\"mid\"] = int(len(scores)/2)\n",
    "pivot_index_dict[\"last\"] = len(scores)-1\n",
    "pivot_index_dict"
   ]
  },
  {
   "cell_type": "markdown",
   "id": "adca8eb3",
   "metadata": {},
   "source": [
    "## Manage zeroes"
   ]
  },
  {
   "cell_type": "code",
   "execution_count": 4,
   "id": "6fe5068a",
   "metadata": {},
   "outputs": [
    {
     "data": {
      "text/plain": [
       "[3, 0, 2, None, None, -1, None, 1, 1, None, -1]"
      ]
     },
     "execution_count": 4,
     "metadata": {},
     "output_type": "execute_result"
    }
   ],
   "source": [
    "for index,score in enumerate(scores):\n",
    "    # Make non pivot 0 = None\n",
    "    if score == 0 and index not in list(pivot_index_dict.values()):\n",
    "        scores[index] = None\n",
    "        \n",
    "# Ensures that there will be always one 0 remaining if\n",
    "# there are 0s in the original scores\n",
    "if None in scores and 0 not in scores:\n",
    "    \n",
    "    # make the first None value = 0\n",
    "    scores[scores.index(None)] = 0\n",
    "    \n",
    "scores"
   ]
  },
  {
   "cell_type": "markdown",
   "id": "3b2c43fd",
   "metadata": {},
   "source": [
    "## Get results for each pivot"
   ]
  },
  {
   "cell_type": "code",
   "execution_count": 5,
   "id": "46c638a7",
   "metadata": {},
   "outputs": [],
   "source": [
    "# 0 - neutral, 1- positive, -1 - negative\n",
    "def convert_to_numerical_sentiment(inp):\n",
    "    val = 0\n",
    "    if inp > 0:\n",
    "        val = 1\n",
    "    elif inp < 0:\n",
    "        val = -1\n",
    "        \n",
    "    return val"
   ]
  },
  {
   "cell_type": "code",
   "execution_count": 6,
   "id": "d473c7a3",
   "metadata": {},
   "outputs": [
    {
     "name": "stdout",
     "output_type": "stream",
     "text": [
      "original:  [3, 0, 2, None, None, -1, None, 1, 1, None, -1]\n",
      "first :  [0, 2, -1, 1, 1, -1]   3   []\n",
      "mid :  [-1]   -1   [3, 0, 2, 1, 1]\n",
      "last :  [-1]   -1   [3, 0, 2, 1, 1]\n"
     ]
    }
   ],
   "source": [
    "results = []\n",
    "\n",
    "# Number 6, bullet 1,2,3\n",
    "# All sentiment scores are the same\n",
    "if len(set(scores)) == 1:\n",
    "    val = convert_to_numerical_sentiment(scores[0])\n",
    "    results.append(val)\n",
    "    \n",
    "# Number 6, bullet 3, sub bullet 1 and 2\n",
    "elif len(scores) <= 2 and 0 in scores:\n",
    "    score_sum = sum(scores)\n",
    "    val = convert_to_numerical_sentiment(score_sum)\n",
    "    results.append(val)\n",
    "    results = np.full(3,val)\n",
    "    \n",
    "else:\n",
    "    # Iterate the three pivot\n",
    "    print(\"original: \", scores)\n",
    "    for pivot_name in pivot_index_dict.keys():\n",
    "        pivot_index = pivot_index_dict[pivot_name]\n",
    "        pivot_value = scores[pivot_index]\n",
    "        \n",
    "        # will store left and right values\n",
    "        left = []\n",
    "        right = []\n",
    "\n",
    "        # segregate to left or right\n",
    "        for index,score in enumerate(scores):\n",
    "            if score != None:\n",
    "                # don't include pivot in the segregation\n",
    "                if index != pivot_index:\n",
    "\n",
    "                    # greater value than pivot = right, else = left\n",
    "                    if score > pivot_value:\n",
    "                        right.append(score)\n",
    "                    elif score < pivot_value:\n",
    "                        left.append(score)\n",
    "\n",
    "                    # If score same value as the current pivot, execute the rules in number 2 sa document\n",
    "                    elif score < 0:\n",
    "                        left.append(score)\n",
    "                    elif score > 0:\n",
    "                        right.append(score)\n",
    "                    \n",
    "        print(pivot_name, \": \", left, \" \", pivot_value, \" \", right)\n",
    "        \n",
    "        # Determine the sentiment for the current pivot\n",
    "        # 1= Positive, -1= Negative\n",
    "        val = None\n",
    "        \n",
    "        # by left and right length\n",
    "        if len(left) > len(right):\n",
    "            val = -1\n",
    "        elif len(left) < len(right):\n",
    "            val = 1\n",
    "\n",
    "        # by left and right intensity\n",
    "        elif abs(sum(left)) > abs(sum(right)):\n",
    "            val = -1\n",
    "        elif abs(sum(left)) < abs(sum(right)):\n",
    "            val = 1\n",
    "\n",
    "        if val != None:\n",
    "            results.append(val)\n"
   ]
  },
  {
   "cell_type": "markdown",
   "id": "4bca66d4",
   "metadata": {},
   "source": [
    "## Get final result"
   ]
  },
  {
   "cell_type": "code",
   "execution_count": 7,
   "id": "398e7daf",
   "metadata": {},
   "outputs": [],
   "source": [
    "# The sum of the results is similar to the logic presented in No.5\n",
    "# Sa document na sinend mo sakin Freshten"
   ]
  },
  {
   "cell_type": "code",
   "execution_count": 8,
   "id": "2c142ecd",
   "metadata": {},
   "outputs": [
    {
     "data": {
      "text/plain": [
       "1"
      ]
     },
     "execution_count": 8,
     "metadata": {},
     "output_type": "execute_result"
    }
   ],
   "source": [
    "results_sum = sum(results)\n",
    "results_sum"
   ]
  },
  {
   "cell_type": "code",
   "execution_count": 9,
   "id": "02a2253d",
   "metadata": {},
   "outputs": [
    {
     "data": {
      "text/plain": [
       "'Positive'"
      ]
     },
     "execution_count": 9,
     "metadata": {},
     "output_type": "execute_result"
    }
   ],
   "source": [
    "final_result = \"Neutral\"\n",
    "if results_sum > 0:\n",
    "    final_result = \"Positive\"\n",
    "elif results_sum < 0:\n",
    "    final_result = \"Negative\"\n",
    "final_result"
   ]
  }
 ],
 "metadata": {
  "kernelspec": {
   "display_name": "Python 3 (ipykernel)",
   "language": "python",
   "name": "python3"
  },
  "language_info": {
   "codemirror_mode": {
    "name": "ipython",
    "version": 3
   },
   "file_extension": ".py",
   "mimetype": "text/x-python",
   "name": "python",
   "nbconvert_exporter": "python",
   "pygments_lexer": "ipython3",
   "version": "3.9.12"
  }
 },
 "nbformat": 4,
 "nbformat_minor": 5
}
